{
 "cells": [
  {
   "cell_type": "markdown",
   "metadata": {
    "colab_type": "text",
    "id": "kR-4eNdK6lYS"
   },
   "source": [
    "Deep Learning\n",
    "=============\n",
    "\n",
    "Assignment 3\n",
    "------------\n",
    "\n",
    "Previously in `2_fullyconnected.ipynb`, you trained a logistic regression and a neural network model.\n",
    "\n",
    "The goal of this assignment is to explore regularization techniques."
   ]
  },
  {
   "cell_type": "code",
   "execution_count": 1,
   "metadata": {
    "cellView": "both",
    "colab": {
     "autoexec": {
      "startup": false,
      "wait_interval": 0
     }
    },
    "colab_type": "code",
    "collapsed": true,
    "id": "JLpLa8Jt7Vu4"
   },
   "outputs": [],
   "source": [
    "# These are all the modules we'll be using later. Make sure you can import them\n",
    "# before proceeding further.\n",
    "from __future__ import print_function\n",
    "import numpy as np\n",
    "import tensorflow as tf\n",
    "from six.moves import cPickle as pickle"
   ]
  },
  {
   "cell_type": "markdown",
   "metadata": {
    "colab_type": "text",
    "id": "1HrCK6e17WzV"
   },
   "source": [
    "First reload the data we generated in `1_notmnist.ipynb`."
   ]
  },
  {
   "cell_type": "code",
   "execution_count": 2,
   "metadata": {
    "cellView": "both",
    "colab": {
     "autoexec": {
      "startup": false,
      "wait_interval": 0
     },
     "output_extras": [
      {
       "item_id": 1
      }
     ]
    },
    "colab_type": "code",
    "collapsed": false,
    "executionInfo": {
     "elapsed": 11777,
     "status": "ok",
     "timestamp": 1449849322348,
     "user": {
      "color": "",
      "displayName": "",
      "isAnonymous": false,
      "isMe": true,
      "permissionId": "",
      "photoUrl": "",
      "sessionId": "0",
      "userId": ""
     },
     "user_tz": 480
    },
    "id": "y3-cj1bpmuxc",
    "outputId": "e03576f1-ebbe-4838-c388-f1777bcc9873"
   },
   "outputs": [
    {
     "name": "stdout",
     "output_type": "stream",
     "text": [
      "Training set (80000, 28, 28) (80000,)\n",
      "Validation set (4000, 28, 28) (4000,)\n",
      "Test set (4000, 28, 28) (4000,)\n"
     ]
    }
   ],
   "source": [
    "pickle_file = 'notMNIST.pickle'\n",
    "\n",
    "with open(pickle_file, 'rb') as f:\n",
    "  save = pickle.load(f)\n",
    "  train_dataset = save['train_dataset']\n",
    "  train_labels = save['train_labels']\n",
    "  valid_dataset = save['valid_dataset']\n",
    "  valid_labels = save['valid_labels']\n",
    "  test_dataset = save['test_dataset']\n",
    "  test_labels = save['test_labels']\n",
    "  del save  # hint to help gc free up memory\n",
    "  print('Training set', train_dataset.shape, train_labels.shape)\n",
    "  print('Validation set', valid_dataset.shape, valid_labels.shape)\n",
    "  print('Test set', test_dataset.shape, test_labels.shape)"
   ]
  },
  {
   "cell_type": "markdown",
   "metadata": {
    "colab_type": "text",
    "id": "L7aHrm6nGDMB"
   },
   "source": [
    "Reformat into a shape that's more adapted to the models we're going to train:\n",
    "- data as a flat matrix,\n",
    "- labels as float 1-hot encodings."
   ]
  },
  {
   "cell_type": "code",
   "execution_count": 3,
   "metadata": {
    "cellView": "both",
    "colab": {
     "autoexec": {
      "startup": false,
      "wait_interval": 0
     },
     "output_extras": [
      {
       "item_id": 1
      }
     ]
    },
    "colab_type": "code",
    "collapsed": false,
    "executionInfo": {
     "elapsed": 11728,
     "status": "ok",
     "timestamp": 1449849322356,
     "user": {
      "color": "",
      "displayName": "",
      "isAnonymous": false,
      "isMe": true,
      "permissionId": "",
      "photoUrl": "",
      "sessionId": "0",
      "userId": ""
     },
     "user_tz": 480
    },
    "id": "IRSyYiIIGIzS",
    "outputId": "3f8996ee-3574-4f44-c953-5c8a04636582"
   },
   "outputs": [
    {
     "name": "stdout",
     "output_type": "stream",
     "text": [
      "Training set (80000, 784) (80000, 10)\n",
      "Validation set (4000, 784) (4000, 10)\n",
      "Test set (4000, 784) (4000, 10)\n"
     ]
    }
   ],
   "source": [
    "image_size = 28\n",
    "num_labels = 10\n",
    "\n",
    "def reformat(dataset, labels):\n",
    "  dataset = dataset.reshape((-1, image_size * image_size)).astype(np.float32)\n",
    "  # Map 1 to [0.0, 1.0, 0.0 ...], 2 to [0.0, 0.0, 1.0 ...]\n",
    "  labels = (np.arange(num_labels) == labels[:,None]).astype(np.float32)\n",
    "  return dataset, labels\n",
    "train_dataset, train_labels = reformat(train_dataset, train_labels)\n",
    "valid_dataset, valid_labels = reformat(valid_dataset, valid_labels)\n",
    "test_dataset, test_labels = reformat(test_dataset, test_labels)\n",
    "print('Training set', train_dataset.shape, train_labels.shape)\n",
    "print('Validation set', valid_dataset.shape, valid_labels.shape)\n",
    "print('Test set', test_dataset.shape, test_labels.shape)"
   ]
  },
  {
   "cell_type": "code",
   "execution_count": 4,
   "metadata": {
    "collapsed": true
   },
   "outputs": [],
   "source": [
    "def accuracy(predictions, labels):\n",
    "  return (100.0 * np.sum(np.argmax(predictions, 1) == np.argmax(labels, 1))\n",
    "          / predictions.shape[0])"
   ]
  },
  {
   "cell_type": "code",
   "execution_count": 4,
   "metadata": {
    "cellView": "both",
    "colab": {
     "autoexec": {
      "startup": false,
      "wait_interval": 0
     }
    },
    "colab_type": "code",
    "collapsed": true,
    "id": "RajPLaL_ZW6w"
   },
   "outputs": [],
   "source": []
  },
  {
   "cell_type": "markdown",
   "metadata": {},
   "source": [
    "---\n",
    "Problem 1\n",
    "---------\n",
    "\n",
    "Introduce and tune L2 regularization for both logistic and neural network models. Remember that L2 amounts to adding a penalty on the norm of the weights to the loss. In TensorFlow, you can compute the L2 loss for a tensor `t` using `nn.l2_loss(t)`. The right amount of regularization should improve your validation / test accuracy.\n",
    "\n",
    "---"
   ]
  },
  {
   "cell_type": "code",
   "execution_count": 25,
   "metadata": {
    "collapsed": false
   },
   "outputs": [
    {
     "name": "stdout",
     "output_type": "stream",
     "text": [
      "Tensor(\"add:0\", shape=(128, 10), dtype=float32)\n",
      "Tensor(\"L2Loss:0\", shape=(), dtype=float32)\n",
      "Tensor(\"Mean:0\", shape=(), dtype=float32)\n"
     ]
    }
   ],
   "source": [
    "###SGD\n",
    "batch_size = 128\n",
    "\n",
    "graph = tf.Graph()\n",
    "with graph.as_default():\n",
    "\n",
    "  # Input data. \n",
    "  tf_train_dataset = tf.placeholder(tf.float32, shape=(batch_size, image_size * image_size))\n",
    "  tf_train_labels = tf.placeholder(tf.float32, shape=(batch_size, num_labels))\n",
    "  tf_valid_dataset = tf.constant(valid_dataset)\n",
    "  tf_test_dataset = tf.constant(test_dataset)\n",
    "  \n",
    "  # Variables.\n",
    "  weights = tf.Variable(tf.truncated_normal([image_size * image_size, num_labels]))\n",
    "  biases = tf.Variable(tf.zeros([num_labels]))\n",
    "  \n",
    "  # Training computation.\n",
    "  logits = tf.matmul(tf_train_dataset, weights) + biases\n",
    "  print(logits)\n",
    "  l2regulate= tf.nn.l2_loss(logits)\n",
    "  print(l2regulate)\n",
    "  loss = tf.reduce_mean(tf.nn.softmax_cross_entropy_with_logits(labels=tf_train_labels, logits=logits)+1e-6*l2regulate)\n",
    "  print(loss)\n",
    "  \n",
    "  # Optimizer.\n",
    "  optimizer = tf.train.GradientDescentOptimizer(0.5).minimize(loss)\n",
    "  \n",
    "  # Predictions for the training, validation, and test data.\n",
    "  train_prediction = tf.nn.softmax(logits)\n",
    "  valid_prediction = tf.nn.softmax(tf.matmul(tf_valid_dataset, weights) + biases)\n",
    "  test_prediction = tf.nn.softmax(tf.matmul(tf_test_dataset, weights) + biases)"
   ]
  },
  {
   "cell_type": "code",
   "execution_count": 26,
   "metadata": {
    "collapsed": false
   },
   "outputs": [
    {
     "name": "stdout",
     "output_type": "stream",
     "text": [
      "Initialized\n",
      "Minibatch loss at step 0: 15.718613\n",
      "Minibatch accuracy: 19.5%\n",
      "Validation accuracy: 12.2%\n",
      "Minibatch loss at step 500: 1.355079\n",
      "Minibatch accuracy: 77.3%\n",
      "Validation accuracy: 76.9%\n",
      "Minibatch loss at step 1000: 1.782970\n",
      "Minibatch accuracy: 73.4%\n",
      "Validation accuracy: 77.0%\n",
      "Minibatch loss at step 1500: 1.086437\n",
      "Minibatch accuracy: 78.9%\n",
      "Validation accuracy: 77.8%\n",
      "Minibatch loss at step 2000: 0.733362\n",
      "Minibatch accuracy: 81.2%\n",
      "Validation accuracy: 78.1%\n",
      "Minibatch loss at step 2500: 0.996418\n",
      "Minibatch accuracy: 71.9%\n",
      "Validation accuracy: 78.9%\n",
      "Minibatch loss at step 3000: 0.853069\n",
      "Minibatch accuracy: 82.8%\n",
      "Validation accuracy: 79.5%\n",
      "Test accuracy: 85.8%\n"
     ]
    }
   ],
   "source": [
    "num_steps = 3001\n",
    "\n",
    "with tf.Session(graph=graph) as session:\n",
    "  tf.global_variables_initializer().run()\n",
    "  print(\"Initialized\")\n",
    "  for step in range(num_steps):\n",
    "    # Pick an offset within the training data, which has been randomized.\n",
    "    # Note: we could use better randomization across epochs.\n",
    "    offset = (step * batch_size) % (train_labels.shape[0] - batch_size)\n",
    "    # Generate a minibatch.\n",
    "    batch_data = train_dataset[offset:(offset + batch_size), :]\n",
    "    batch_labels = train_labels[offset:(offset + batch_size), :]\n",
    "    # Prepare a dictionary telling the session where to feed the minibatch.\n",
    "    # The key of the dictionary is the placeholder node of the graph to be fed,\n",
    "    # and the value is the numpy array to feed to it.\n",
    "    feed_dict = {tf_train_dataset : batch_data, tf_train_labels : batch_labels}\n",
    "    _, l, predictions = session.run([optimizer, loss, train_prediction], feed_dict=feed_dict)\n",
    "    if (step % 500 == 0):\n",
    "      print(\"Minibatch loss at step %d: %f\" % (step, l))\n",
    "      print(\"Minibatch accuracy: %.1f%%\" % accuracy(predictions, batch_labels))\n",
    "      print(\"Validation accuracy: %.1f%%\" % accuracy(valid_prediction.eval(), valid_labels))\n",
    "  print(\"Test accuracy: %.1f%%\" % accuracy(test_prediction.eval(), test_labels))"
   ]
  },
  {
   "cell_type": "markdown",
   "metadata": {},
   "source": [
    "---\n",
    "Problem 2\n",
    "---------\n",
    "Let's demonstrate an extreme case of overfitting. Restrict your training data to just a few batches. What happens?\n",
    "\n",
    "---"
   ]
  },
  {
   "cell_type": "code",
   "execution_count": 16,
   "metadata": {
    "collapsed": true
   },
   "outputs": [],
   "source": [
    "###SGD\n",
    "train_subsettt = train_dataset[0:1000,:]\n",
    "train_sublabel = train_labels[0:1000,:]\n",
    "batch_size = 128\n",
    "\n",
    "graph = tf.Graph()\n",
    "with graph.as_default():\n",
    "\n",
    "  # Input data. \n",
    "  tf_train_dataset = tf.placeholder(tf.float32, shape=(batch_size, image_size * image_size))\n",
    "  tf_train_labels = tf.placeholder(tf.float32, shape=(batch_size, num_labels))\n",
    "  tf_valid_dataset = tf.constant(valid_dataset)\n",
    "  tf_test_dataset = tf.constant(test_dataset)\n",
    "  \n",
    "  # Variables.\n",
    "  weights = tf.Variable(tf.truncated_normal([image_size * image_size, num_labels]))\n",
    "  biases = tf.Variable(tf.zeros([num_labels]))\n",
    "  \n",
    "  # Training computation.\n",
    "  logits = tf.matmul(tf_train_dataset, weights) + biases\n",
    "  loss = tf.reduce_mean(tf.nn.softmax_cross_entropy_with_logits(labels=tf_train_labels, logits=logits))\n",
    "  \n",
    "  # Optimizer.\n",
    "  optimizer = tf.train.GradientDescentOptimizer(0.5).minimize(loss)\n",
    "  \n",
    "  # Predictions for the training, validation, and test data.\n",
    "  train_prediction = tf.nn.softmax(logits)\n",
    "  valid_prediction = tf.nn.softmax(tf.matmul(tf_valid_dataset, weights) + biases)\n",
    "  test_prediction = tf.nn.softmax(tf.matmul(tf_test_dataset, weights) + biases)"
   ]
  },
  {
   "cell_type": "code",
   "execution_count": 20,
   "metadata": {
    "colab_type": "text",
    "collapsed": false,
    "id": "sgLbUAQ1CW-1",
    "scrolled": true
   },
   "outputs": [
    {
     "name": "stdout",
     "output_type": "stream",
     "text": [
      "Initialized\n",
      "Minibatch loss at step 0: 16.158688\n",
      "Minibatch accuracy: 14.1%\n",
      "Validation accuracy: 17.8%\n",
      "Minibatch loss at step 200: 0.795997\n",
      "Minibatch accuracy: 85.2%\n",
      "Validation accuracy: 68.7%\n",
      "Minibatch loss at step 400: 0.197597\n",
      "Minibatch accuracy: 96.9%\n",
      "Validation accuracy: 68.7%\n",
      "Minibatch loss at step 600: 0.091157\n",
      "Minibatch accuracy: 99.2%\n",
      "Validation accuracy: 69.0%\n",
      "Minibatch loss at step 800: 0.055331\n",
      "Minibatch accuracy: 100.0%\n",
      "Validation accuracy: 69.3%\n",
      "Minibatch loss at step 1000: 0.051629\n",
      "Minibatch accuracy: 100.0%\n",
      "Validation accuracy: 69.7%\n",
      "Minibatch loss at step 1200: 0.037718\n",
      "Minibatch accuracy: 100.0%\n",
      "Validation accuracy: 69.6%\n",
      "Minibatch loss at step 1400: 0.032254\n",
      "Minibatch accuracy: 100.0%\n",
      "Validation accuracy: 70.0%\n",
      "Minibatch loss at step 1600: 0.033336\n",
      "Minibatch accuracy: 100.0%\n",
      "Validation accuracy: 70.1%\n",
      "Minibatch loss at step 1800: 0.030272\n",
      "Minibatch accuracy: 100.0%\n",
      "Validation accuracy: 70.4%\n",
      "Minibatch loss at step 2000: 0.022581\n",
      "Minibatch accuracy: 100.0%\n",
      "Validation accuracy: 70.6%\n",
      "Test accuracy: 76.2%\n"
     ]
    }
   ],
   "source": [
    "num_steps = 2001\n",
    "\n",
    "with tf.Session(graph=graph) as session:\n",
    "  tf.global_variables_initializer().run()\n",
    "  print(\"Initialized\")\n",
    "  for step in range(num_steps):\n",
    "    # Pick an offset within the training data, which has been randomized.\n",
    "    # Note: we could use better randomization across epochs.\n",
    "    offset = (step * batch_size) % (train_subsettt.shape[0] - batch_size)\n",
    "    # Generate a minibatch.\n",
    "    batch_data = train_subsettt[offset:(offset + batch_size), :]\n",
    "    batch_labels = train_sublabel[offset:(offset + batch_size), :]\n",
    "    # Prepare a dictionary telling the session where to feed the minibatch.\n",
    "    # The key of the dictionary is the placeholder node of the graph to be fed,\n",
    "    # and the value is the numpy array to feed to it.\n",
    "    feed_dict = {tf_train_dataset : batch_data, tf_train_labels : batch_labels}\n",
    "    _, l, predictions = session.run([optimizer, loss, train_prediction], feed_dict=feed_dict)\n",
    "    if (step % 200 == 0):\n",
    "      print(\"Minibatch loss at step %d: %f\" % (step, l))\n",
    "      print(\"Minibatch accuracy: %.1f%%\" % accuracy(predictions, batch_labels))\n",
    "      print(\"Validation accuracy: %.1f%%\" % accuracy(valid_prediction.eval(), valid_labels))\n",
    "  print(\"Test accuracy: %.1f%%\" % accuracy(test_prediction.eval(), test_labels))"
   ]
  },
  {
   "cell_type": "markdown",
   "metadata": {
    "colab_type": "text",
    "id": "na8xX2yHZzNF"
   },
   "source": [
    "ANS: training accuracy is 100%, but validation accuracy and test accuracy is around 70%."
   ]
  },
  {
   "cell_type": "markdown",
   "metadata": {},
   "source": [
    "---\n",
    "Problem 3\n",
    "---------\n",
    "Introduce Dropout on the hidden layer of the neural network. Remember: Dropout should only be introduced during training, not evaluation, otherwise your evaluation results would be stochastic as well. TensorFlow provides `nn.dropout()` for that, but you have to make sure it's only inserted during training.\n",
    "\n",
    "What happens to our extreme overfitting case?\n",
    "\n",
    "---"
   ]
  },
  {
   "cell_type": "code",
   "execution_count": 7,
   "metadata": {
    "collapsed": false,
    "scrolled": true
   },
   "outputs": [
    {
     "name": "stdout",
     "output_type": "stream",
     "text": [
      "Initialized\n",
      "Minibatch loss at step 0: 23.126530\n",
      "Minibatch accuracy: 11.7%\n",
      "Validation accuracy: 9.9%\n",
      "Minibatch loss at step 500: 1.280097\n",
      "Minibatch accuracy: 51.6%\n",
      "Validation accuracy: 67.2%\n",
      "Minibatch loss at step 1000: 0.909136\n",
      "Minibatch accuracy: 59.4%\n",
      "Validation accuracy: 67.6%\n",
      "Minibatch loss at step 1500: 0.876161\n",
      "Minibatch accuracy: 60.2%\n",
      "Validation accuracy: 68.5%\n",
      "Minibatch loss at step 2000: 0.955561\n",
      "Minibatch accuracy: 60.2%\n",
      "Validation accuracy: 68.5%\n",
      "Test accuracy: 75.1%\n",
      "Initialized\n",
      "Minibatch loss at step 0: 24.791967\n",
      "Minibatch accuracy: 10.9%\n",
      "Validation accuracy: 13.7%\n",
      "Minibatch loss at step 500: 0.982232\n",
      "Minibatch accuracy: 63.3%\n",
      "Validation accuracy: 67.5%\n",
      "Minibatch loss at step 1000: 0.775603\n",
      "Minibatch accuracy: 66.4%\n",
      "Validation accuracy: 67.8%\n",
      "Minibatch loss at step 1500: 0.760224\n",
      "Minibatch accuracy: 64.8%\n",
      "Validation accuracy: 68.7%\n",
      "Minibatch loss at step 2000: 0.607161\n",
      "Minibatch accuracy: 69.5%\n",
      "Validation accuracy: 69.4%\n",
      "Test accuracy: 75.3%\n",
      "Initialized\n",
      "Minibatch loss at step 0: 25.868729\n",
      "Minibatch accuracy: 5.5%\n",
      "Validation accuracy: 10.1%\n",
      "Minibatch loss at step 500: 0.888259\n",
      "Minibatch accuracy: 74.2%\n",
      "Validation accuracy: 67.8%\n",
      "Minibatch loss at step 1000: 0.584124\n",
      "Minibatch accuracy: 71.1%\n",
      "Validation accuracy: 68.8%\n",
      "Minibatch loss at step 1500: 0.455471\n",
      "Minibatch accuracy: 78.1%\n",
      "Validation accuracy: 69.1%\n",
      "Minibatch loss at step 2000: 0.522965\n",
      "Minibatch accuracy: 78.9%\n",
      "Validation accuracy: 69.6%\n",
      "Test accuracy: 76.4%\n",
      "Initialized\n",
      "Minibatch loss at step 0: 19.246576\n",
      "Minibatch accuracy: 9.4%\n",
      "Validation accuracy: 13.6%\n",
      "Minibatch loss at step 500: 0.549032\n",
      "Minibatch accuracy: 85.9%\n",
      "Validation accuracy: 69.5%\n",
      "Minibatch loss at step 1000: 0.413585\n",
      "Minibatch accuracy: 83.6%\n",
      "Validation accuracy: 69.3%\n",
      "Minibatch loss at step 1500: 0.367042\n",
      "Minibatch accuracy: 85.2%\n",
      "Validation accuracy: 70.7%\n",
      "Minibatch loss at step 2000: 0.366909\n",
      "Minibatch accuracy: 85.9%\n",
      "Validation accuracy: 70.8%\n",
      "Test accuracy: 76.7%\n",
      "Initialized\n",
      "Minibatch loss at step 0: 20.061266\n",
      "Minibatch accuracy: 14.1%\n",
      "Validation accuracy: 13.1%\n",
      "Minibatch loss at step 500: 0.779334\n",
      "Minibatch accuracy: 83.6%\n",
      "Validation accuracy: 69.3%\n",
      "Minibatch loss at step 1000: 0.194189\n",
      "Minibatch accuracy: 93.8%\n",
      "Validation accuracy: 69.8%\n",
      "Minibatch loss at step 1500: 0.241327\n",
      "Minibatch accuracy: 92.2%\n",
      "Validation accuracy: 70.2%\n",
      "Minibatch loss at step 2000: 0.163714\n",
      "Minibatch accuracy: 93.0%\n",
      "Validation accuracy: 70.1%\n",
      "Test accuracy: 77.0%\n",
      "Initialized\n",
      "Minibatch loss at step 0: 17.450912\n",
      "Minibatch accuracy: 10.9%\n",
      "Validation accuracy: 8.2%\n",
      "Minibatch loss at step 500: 0.182099\n",
      "Minibatch accuracy: 96.1%\n",
      "Validation accuracy: 68.3%\n",
      "Minibatch loss at step 1000: 0.071786\n",
      "Minibatch accuracy: 100.0%\n",
      "Validation accuracy: 69.7%\n",
      "Minibatch loss at step 1500: 0.046776\n",
      "Minibatch accuracy: 99.2%\n",
      "Validation accuracy: 70.1%\n",
      "Minibatch loss at step 2000: 0.025036\n",
      "Minibatch accuracy: 100.0%\n",
      "Validation accuracy: 70.4%\n",
      "Test accuracy: 76.7%\n"
     ]
    }
   ],
   "source": [
    "###SGD\n",
    "train_subsettt = train_dataset[0:1000,:]\n",
    "train_sublabel = train_labels[0:1000,:]\n",
    "batch_size = 128\n",
    "dddropout=[0.8]\n",
    "num_steps = 2001\n",
    "for dropouttt in dddropout:\n",
    "    graph = tf.Graph()\n",
    "    with graph.as_default():\n",
    "      # Input data. \n",
    "      tf_train_dataset = tf.placeholder(tf.float32, shape=(batch_size, image_size * image_size))\n",
    "      tf_train_labels = tf.placeholder(tf.float32, shape=(batch_size, num_labels))\n",
    "      tf_valid_dataset = tf.constant(valid_dataset)\n",
    "      tf_test_dataset = tf.constant(test_dataset)\n",
    "      keep_prob = tf.placeholder(tf.float32) #dropout (keep probability)\n",
    "      # Variables.\n",
    "      weights = tf.Variable(tf.truncated_normal([image_size * image_size, num_labels]))\n",
    "      biases = tf.Variable(tf.zeros([num_labels]))\n",
    "      \n",
    "      # Training computation.\n",
    "      logits = tf.matmul(tf_train_dataset, weights) + biases\n",
    "      logits = tf.nn.dropout(logits, dropouttt)\n",
    "      loss = tf.reduce_mean(tf.nn.softmax_cross_entropy_with_logits(labels=tf_train_labels, logits=logits))\n",
    "  \n",
    "      # Optimizer.\n",
    "      optimizer = tf.train.GradientDescentOptimizer(0.5).minimize(loss)\n",
    "      \n",
    "      # Predictions for the training, validation, and test data.\n",
    "      train_prediction = tf.nn.softmax(logits)\n",
    "      valid_prediction = tf.nn.softmax(tf.matmul(tf_valid_dataset, weights) + biases)\n",
    "      test_prediction = tf.nn.softmax(tf.matmul(tf_test_dataset, weights) + biases)\n",
    "        \n",
    "    with tf.Session(graph=graph) as session:\n",
    "      tf.global_variables_initializer().run()\n",
    "      print(\"Initialized\")\n",
    "      for step in range(num_steps):\n",
    "        # Pick an offset within the training data, which has been randomized.\n",
    "        # Note: we could use better randomization across epochs.\n",
    "        offset = (step * batch_size) % (train_subsettt.shape[0] - batch_size)\n",
    "        # Generate a minibatch.\n",
    "        batch_data = train_subsettt[offset:(offset + batch_size), :]\n",
    "        batch_labels = train_sublabel[offset:(offset + batch_size), :]\n",
    "        # Prepare a dictionary telling the session where to feed the minibatch.\n",
    "        # The key of the dictionary is the placeholder node of the graph to be fed,\n",
    "        # and the value is the numpy array to feed to it.\n",
    "        feed_dict = {tf_train_dataset : batch_data, tf_train_labels : batch_labels, keep_prob : dropouttt}\n",
    "        _, l, predictions = session.run([optimizer, loss, train_prediction], feed_dict=feed_dict)\n",
    "        if (step % 500 == 0):\n",
    "          print(\"Minibatch loss at step %d: %f\" % (step, l))\n",
    "          print(\"Minibatch accuracy: %.1f%%\" % accuracy(predictions, batch_labels))\n",
    "          print(\"Validation accuracy: %.1f%%\" % accuracy(valid_prediction.eval(feed_dict = {keep_prob:1.0}), valid_labels))\n",
    "      print(\"Test accuracy: %.1f%%\" % accuracy(test_prediction.eval(feed_dict = {keep_prob:1.0}), test_labels))"
   ]
  },
  {
   "cell_type": "code",
   "execution_count": 44,
   "metadata": {
    "colab_type": "text",
    "collapsed": false,
    "id": "ww3SCBUdlkRc",
    "scrolled": true
   },
   "outputs": [
    {
     "name": "stdout",
     "output_type": "stream",
     "text": [
      "Initialized\n",
      "Minibatch loss at step 0: 20.814812\n",
      "Minibatch accuracy: 10.9%\n",
      "Validation accuracy: 12.7%\n",
      "Minibatch loss at step 500: 0.638551\n",
      "Minibatch accuracy: 78.1%\n",
      "Validation accuracy: 69.2%\n",
      "Minibatch loss at step 1000: 0.446889\n",
      "Minibatch accuracy: 85.2%\n",
      "Validation accuracy: 70.2%\n",
      "Minibatch loss at step 1500: 0.306119\n",
      "Minibatch accuracy: 87.5%\n",
      "Validation accuracy: 70.9%\n",
      "Minibatch loss at step 2000: 0.303973\n",
      "Minibatch accuracy: 89.1%\n",
      "Validation accuracy: 70.6%\n",
      "Test accuracy: 76.2%\n"
     ]
    }
   ],
   "source": []
  },
  {
   "cell_type": "markdown",
   "metadata": {},
   "source": [
    "---\n",
    "Problem 4\n",
    "---------\n",
    "\n",
    "Try to get the best performance you can using a multi-layer model! The best reported test accuracy using a deep network is [97.1%](http://yaroslavvb.blogspot.com/2011/09/notmnist-dataset.html?showComment=1391023266211#c8758720086795711595).\n",
    "\n",
    "One avenue you can explore is to add multiple layers.\n",
    "\n",
    "Another one is to use learning rate decay:\n",
    "\n",
    "    global_step = tf.Variable(0)  # count the number of steps taken.\n",
    "    learning_rate = tf.train.exponential_decay(0.5, global_step, ...)\n",
    "    optimizer = tf.train.GradientDescentOptimizer(learning_rate).minimize(loss, global_step=global_step)\n",
    " \n",
    " ---"
   ]
  },
  {
   "cell_type": "code",
   "execution_count": 38,
   "metadata": {
    "colab_type": "text",
    "collapsed": false,
    "id": "-b1hTz3VWZjw"
   },
   "outputs": [],
   "source": [
    "###SGD\n",
    "train_subsettt = train_dataset[0:10000,:]\n",
    "train_sublabel = train_labels[0:10000,:]\n",
    "batch_size = 128\n",
    "dropouttt=1.0\n",
    "graph = tf.Graph()\n",
    "with graph.as_default():\n",
    "\n",
    "  # Input data. \n",
    "  tf_train_dataset = tf.placeholder(tf.float32, shape=(batch_size, image_size * image_size))\n",
    "  tf_train_labels = tf.placeholder(tf.float32, shape=(batch_size, num_labels))\n",
    "  tf_valid_dataset = tf.constant(valid_dataset)\n",
    "  tf_test_dataset = tf.constant(test_dataset)\n",
    "  global_step = tf.Variable(0, trainable=False)  # count the number of steps taken.\n",
    "  learning_rate = tf.train.exponential_decay(0.5, global_step, 500, 0.96, staircase=True)\n",
    "  keep_prob = tf.placeholder(tf.float32) #dropout (keep probability)\n",
    "    \n",
    "  # Variables.\n",
    "  weights = tf.Variable(tf.truncated_normal([image_size * image_size, num_labels]))\n",
    "  biases = tf.Variable(tf.zeros([num_labels]))\n",
    "  ##weight1=shape(imagesize, middlelabel)\n",
    "  ##weight2=shape(middlelabel, num_label)\n",
    "  \n",
    "  # Training computation.\n",
    "  logits = tf.matmul(tf_train_dataset, weights) + biases\n",
    "  logits = tf.nn.dropout(logits, dropouttt)\n",
    "  loss = tf.reduce_mean(tf.nn.softmax_cross_entropy_with_logits(labels=tf_train_labels, logits=logits))\n",
    "  \n",
    "  # Optimizer.\n",
    "  optimizer = tf.train.GradientDescentOptimizer(learning_rate).minimize(loss, global_step=global_step)\n",
    "  \n",
    "  # Predictions for the training, validation, and test data.\n",
    "  train_prediction = tf.nn.softmax(logits)\n",
    "  valid_prediction = tf.nn.softmax(tf.matmul(tf_valid_dataset, weights) + biases)\n",
    "  test_prediction = tf.nn.softmax(tf.matmul(tf_test_dataset, weights) + biases)"
   ]
  },
  {
   "cell_type": "code",
   "execution_count": 39,
   "metadata": {
    "collapsed": false
   },
   "outputs": [
    {
     "name": "stdout",
     "output_type": "stream",
     "text": [
      "Initialized\n",
      "Minibatch loss at step 0: 23.826630\n",
      "Minibatch accuracy: 8.6%\n",
      "Validation accuracy: 15.1%\n",
      "Minibatch loss at step 500: 1.546398\n",
      "Minibatch accuracy: 57.8%\n",
      "Validation accuracy: 73.5%\n",
      "Minibatch loss at step 1000: 1.319362\n",
      "Minibatch accuracy: 59.4%\n",
      "Validation accuracy: 74.9%\n",
      "Minibatch loss at step 1500: 1.794065\n",
      "Minibatch accuracy: 55.5%\n",
      "Validation accuracy: 75.0%\n",
      "Minibatch loss at step 2000: 1.485711\n",
      "Minibatch accuracy: 54.7%\n",
      "Validation accuracy: 75.6%\n",
      "Minibatch loss at step 2500: 1.729220\n",
      "Minibatch accuracy: 47.7%\n",
      "Validation accuracy: 75.8%\n",
      "Minibatch loss at step 3000: 1.276979\n",
      "Minibatch accuracy: 60.2%\n",
      "Validation accuracy: 75.8%\n",
      "Minibatch loss at step 3500: 1.379959\n",
      "Minibatch accuracy: 55.5%\n",
      "Validation accuracy: 76.3%\n",
      "Minibatch loss at step 4000: 1.312955\n",
      "Minibatch accuracy: 58.6%\n",
      "Validation accuracy: 76.0%\n",
      "Test accuracy: 82.8%\n"
     ]
    }
   ],
   "source": [
    "num_steps = 4001\n",
    "\n",
    "with tf.Session(graph=graph) as session:\n",
    "  tf.global_variables_initializer().run()\n",
    "  print(\"Initialized\")\n",
    "  for step in range(num_steps):\n",
    "    # Pick an offset within the training data, which has been randomized.\n",
    "    # Note: we could use better randomization across epochs.\n",
    "    offset = (step * batch_size) % (train_subsettt.shape[0] - batch_size)\n",
    "    # Generate a minibatch.\n",
    "    batch_data = train_subsettt[offset:(offset + batch_size), :]\n",
    "    batch_labels = train_sublabel[offset:(offset + batch_size), :]\n",
    "    # Prepare a dictionary telling the session where to feed the minibatch.\n",
    "    # The key of the dictionary is the placeholder node of the graph to be fed,\n",
    "    # and the value is the numpy array to feed to it.\n",
    "    feed_dict = {tf_train_dataset : batch_data, tf_train_labels : batch_labels, keep_prob : dropouttt}\n",
    "    _, l, predictions = session.run([optimizer, loss, train_prediction], feed_dict=feed_dict)\n",
    "    if (step % 500 == 0):\n",
    "      print(\"Minibatch loss at step %d: %f\" % (step, l))\n",
    "      print(\"Minibatch accuracy: %.1f%%\" % accuracy(predictions, batch_labels))\n",
    "      print(\"Validation accuracy: %.1f%%\" % accuracy(valid_prediction.eval(feed_dict = {keep_prob:1.0}), valid_labels))\n",
    "  print(\"Test accuracy: %.1f%%\" % accuracy(test_prediction.eval(feed_dict = {keep_prob:1.0}), test_labels))"
   ]
  },
  {
   "cell_type": "code",
   "execution_count": null,
   "metadata": {
    "collapsed": true
   },
   "outputs": [],
   "source": []
  }
 ],
 "metadata": {
  "colab": {
   "default_view": {},
   "name": "3_regularization.ipynb",
   "provenance": [],
   "version": "0.3.2",
   "views": {}
  },
  "kernelspec": {
   "display_name": "Python 2",
   "language": "python",
   "name": "python2"
  },
  "language_info": {
   "codemirror_mode": {
    "name": "ipython",
    "version": 2
   },
   "file_extension": ".py",
   "mimetype": "text/x-python",
   "name": "python",
   "nbconvert_exporter": "python",
   "pygments_lexer": "ipython2",
   "version": "2.7.12"
  }
 },
 "nbformat": 4,
 "nbformat_minor": 0
}
